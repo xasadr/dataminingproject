{
 "cells": [
  {
   "cell_type": "code",
   "execution_count": 10,
   "id": "1db8a0aa",
   "metadata": {},
   "outputs": [
    {
     "name": "stdout",
     "output_type": "stream",
     "text": [
      "The states with higher than average number of deaths per incident are: Alabama, Arizona, Arkansas, California, Florida, Georgia, Indiana, Kansas, Kentucky, Louisiana, Maryland, Michigan, Mississippi, Missouri, Nevada, New Mexico, North Carolina, Oklahoma, Pennsylvania, Texas, Utah\n",
      "The states with higher than average number of injuries per incident are: Alabama, Delaware, Illinois, Indiana, Louisiana, Maryland, Mississippi, Missouri, New York, North Carolina, Ohio, Pennsylvania, Tennessee, Virginia\n"
     ]
    }
   ],
   "source": [
    "import pandas as pd\n",
    "\n",
    "data = pd.read_csv('stage3.csv')\n",
    "\n",
    "#we are going to collect the stats without clustering \n",
    "state_stats = data.groupby('state')[['n_killed', 'n_injured']].sum()\n",
    "\n",
    "#get all the incidents by state unique ones\n",
    "state_stats['n_incidents'] = data.groupby('state')['incident_id'].nunique()\n",
    "\n",
    "state_stats['avg_killed_per_incident'] = state_stats['n_killed'] / state_stats['n_incidents']\n",
    "state_stats['avg_injured_per_incident'] = state_stats['n_injured'] / state_stats['n_incidents']\n",
    "\n",
    "#get avg killed and avg injured for each state and we will divide them by their sums\n",
    "avg_killed_per_incident = state_stats['n_killed'].sum() / state_stats['n_incidents'].sum()\n",
    "avg_injured_per_incident = state_stats['n_injured'].sum() / state_stats['n_incidents'].sum()\n",
    "\n",
    "#we find the corresponding states based on those stats we got above\n",
    "high_killed_states = state_stats[state_stats['avg_killed_per_incident'] > avg_killed_per_incident].index\n",
    "high_injured_states = state_stats[state_stats['avg_injured_per_incident'] > avg_injured_per_incident].index\n",
    "\n",
    "print(f\"The states with higher than average number of deaths per incident are: {', '.join(high_killed_states)}\")\n",
    "print(f\"The states with higher than average number of injuries per incident are: {', '.join(high_injured_states)}\")\n"
   ]
  },
  {
   "cell_type": "code",
   "execution_count": null,
   "id": "f52fdfd4",
   "metadata": {},
   "outputs": [],
   "source": []
  }
 ],
 "metadata": {
  "kernelspec": {
   "display_name": "Python 3 (ipykernel)",
   "language": "python",
   "name": "python3"
  },
  "language_info": {
   "codemirror_mode": {
    "name": "ipython",
    "version": 3
   },
   "file_extension": ".py",
   "mimetype": "text/x-python",
   "name": "python",
   "nbconvert_exporter": "python",
   "pygments_lexer": "ipython3",
   "version": "3.9.13"
  }
 },
 "nbformat": 4,
 "nbformat_minor": 5
}
