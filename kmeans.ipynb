{
 "cells": [
  {
   "cell_type": "code",
   "execution_count": 6,
   "id": "a1627d9b",
   "metadata": {},
   "outputs": [
    {
     "name": "stdout",
     "output_type": "stream",
     "text": [
      "Cluster 0: Mean killed = 0.00, Mean injured = 0.00\n",
      "States in cluster 0: Michigan, New Jersey, Kentucky, Virginia, Maryland, Missouri, Illinois, Nebraska, South Carolina, Texas, Florida, Wisconsin, District of Columbia, West Virginia, Massachusetts, Georgia, New Hampshire, Arizona, Ohio, Pennsylvania, Oklahoma, North Carolina, Washington, Mississippi, Iowa, Alaska, Arkansas, Louisiana, Alabama, Tennessee, New York, Nevada, Minnesota, Indiana, Idaho, Oregon, Delaware, Utah, California, Maine, Kansas, North Dakota, New Mexico, Rhode Island, Connecticut, Colorado, Vermont, Montana, Hawaii, Wyoming, South Dakota\n",
      "\n",
      "Cluster 1: Mean killed = 1.00, Mean injured = 0.00\n",
      "States in cluster 1: Maryland, New York, New Jersey, Pennsylvania, California, South Carolina, Delaware, Colorado, Alabama, Louisiana, Mississippi, Hawaii, Florida, Indiana, Texas, Kansas, Virginia, Oklahoma, North Carolina, Missouri, Georgia, Ohio, Oregon, Nevada, Illinois, Michigan, Washington, West Virginia, Montana, Wisconsin, Connecticut, Kentucky, Arizona, Arkansas, Massachusetts, Tennessee, Minnesota, New Hampshire, Wyoming, New Mexico, Alaska, North Dakota, Iowa, District of Columbia, Nebraska, Vermont, Rhode Island, Idaho, Utah, South Dakota, Maine\n",
      "\n",
      "Cluster 2: Mean killed = 0.00, Mean injured = 1.00\n",
      "States in cluster 2: New York, Pennsylvania, Missouri, Georgia, Virginia, South Carolina, New Jersey, Utah, Indiana, Colorado, Massachusetts, Washington, Kentucky, Ohio, Kansas, Florida, North Carolina, Maryland, Texas, California, Mississippi, Connecticut, Alabama, Michigan, Louisiana, Wisconsin, Arkansas, Alaska, Illinois, Iowa, West Virginia, Arizona, Wyoming, Tennessee, Oklahoma, New Mexico, Delaware, Maine, Nebraska, Montana, Oregon, New Hampshire, District of Columbia, Nevada, Minnesota, Hawaii, Rhode Island, South Dakota, Idaho, North Dakota, Vermont\n",
      "\n",
      "Cluster 3: Mean killed = 0.52, Mean injured = 6.85\n",
      "States in cluster 3: Maryland, Georgia, California, Illinois, Virginia, Missouri, New York, Michigan, Washington, Kansas, West Virginia, Pennsylvania, Louisiana, Florida, Texas, Tennessee, Ohio, New Jersey, Indiana, Massachusetts, Minnesota, District of Columbia, Utah, Alaska, South Carolina, New Mexico, Connecticut, Delaware, Kentucky, North Carolina, Oklahoma, Colorado, Arizona, Alabama, Mississippi, Arkansas\n",
      "\n",
      "Cluster 4: Mean killed = 0.00, Mean injured = 2.00\n",
      "States in cluster 4: New Jersey, California, Texas, Louisiana, Rhode Island, Florida, Illinois, New York, Oklahoma, Missouri, Michigan, Alabama, Virginia, Nevada, Mississippi, Kentucky, Pennsylvania, Delaware, Georgia, South Carolina, North Carolina, Connecticut, Wisconsin, Arizona, Kansas, Indiana, Ohio, Maryland, Maine, New Mexico, Tennessee, Arkansas, Minnesota, Oregon, Idaho, Massachusetts, Nebraska, Alaska, West Virginia, Washington, Iowa, Vermont, Colorado, Utah, North Dakota, District of Columbia, Wyoming, New Hampshire, Montana, Hawaii, South Dakota\n",
      "\n",
      "Cluster 5: Mean killed = 2.00, Mean injured = 0.00\n",
      "States in cluster 5: California, Maryland, Florida, Tennessee, West Virginia, Mississippi, Pennsylvania, Michigan, Missouri, Louisiana, Montana, Minnesota, Nebraska, Indiana, Texas, Ohio, Virginia, South Carolina, North Carolina, Massachusetts, Delaware, Kentucky, Illinois, Oklahoma, District of Columbia, Colorado, Oregon, Georgia, New Jersey, Washington, Kansas, New Mexico, New York, Vermont, Arizona, Iowa, Wisconsin, Alabama, Nevada, Idaho, New Hampshire, Alaska, Arkansas, Connecticut, Utah, Rhode Island, Wyoming, Maine, South Dakota, North Dakota, Hawaii\n",
      "\n",
      "Cluster 6: Mean killed = 1.00, Mean injured = 1.00\n",
      "States in cluster 6: Indiana, Florida, Texas, North Carolina, New York, Oregon, Minnesota, Oklahoma, Washington, Georgia, Missouri, Michigan, Alabama, New Jersey, Tennessee, Maryland, Arkansas, Arizona, South Carolina, Kansas, California, Pennsylvania, Ohio, Louisiana, West Virginia, Colorado, Iowa, Illinois, Nevada, Virginia, New Mexico, Mississippi, Alaska, Hawaii, Connecticut, Kentucky, North Dakota, South Dakota, Utah, Wisconsin, Nebraska, Idaho, Rhode Island, Massachusetts, Delaware, Vermont, District of Columbia, Maine, Montana, New Hampshire, Wyoming\n",
      "\n",
      "Cluster 7: Mean killed = 50.00, Mean injured = 53.00\n",
      "States in cluster 7: Florida\n",
      "\n",
      "Cluster 8: Mean killed = 0.18, Mean injured = 4.25\n",
      "States in cluster 8: Pennsylvania, Louisiana, California, District of Columbia, Tennessee, Illinois, Michigan, Missouri, Florida, South Carolina, Kentucky, Ohio, North Carolina, New Jersey, Arizona, Virginia, Georgia, Wisconsin, Indiana, Maryland, Rhode Island, Colorado, Alabama, Mississippi, Kansas, Connecticut, New York, Texas, Washington, New Mexico, Delaware, Nevada, Nebraska, Oklahoma, Iowa, Massachusetts, Oregon, Minnesota, Hawaii, Arkansas, North Dakota, Utah\n",
      "\n",
      "Cluster 9: Mean killed = 3.40, Mean injured = 0.21\n",
      "States in cluster 9: Colorado, Oklahoma, New Mexico, Utah, California, New York, Ohio, Washington, Illinois, Indiana, South Carolina, Texas, West Virginia, Florida, Tennessee, Georgia, District of Columbia, Arizona, Kansas, Maryland, Iowa, Michigan, North Carolina, Pennsylvania, Virginia, Louisiana, Arkansas, Mississippi, Nevada, Missouri, Maine, Kentucky, Oregon, New Jersey, Alabama, Idaho, South Dakota, Minnesota, Alaska, New Hampshire, Wisconsin, Montana, Vermont, Nebraska, Hawaii\n",
      "\n",
      "Cluster 10: Mean killed = 0.00, Mean injured = 3.00\n",
      "States in cluster 10: Alabama, Florida, New Jersey, Indiana, New York, Louisiana, Tennessee, North Carolina, Wisconsin, Georgia, Texas, Kansas, California, Michigan, Illinois, South Carolina, Pennsylvania, Kentucky, Minnesota, Maryland, Ohio, Arkansas, Washington, Virginia, Massachusetts, Colorado, Connecticut, Mississippi, Vermont, Oregon, Arizona, West Virginia, Missouri, Alaska, District of Columbia, Nebraska, Oklahoma, Iowa, Delaware, Nevada, New Mexico, Hawaii, Montana, Utah, Rhode Island, Wyoming, Idaho, South Dakota\n",
      "\n",
      "Cluster 11: Mean killed = 20.00, Mean injured = 18.67\n",
      "States in cluster 11: California, Texas, Florida\n",
      "\n",
      "Cluster 12: Mean killed = 1.04, Mean injured = 2.28\n",
      "States in cluster 12: California, Ohio, Tennessee, Missouri, Louisiana, Oklahoma, Indiana, New York, Pennsylvania, Arizona, Florida, Michigan, Rhode Island, Texas, Illinois, New Jersey, South Carolina, District of Columbia, Kentucky, Minnesota, Alabama, Oregon, Arkansas, Georgia, Kansas, Maryland, Colorado, Virginia, North Carolina, Utah, Mississippi, Nevada, Washington, Delaware, New Mexico, Wisconsin, Connecticut, Nebraska, Massachusetts, West Virginia, Alaska, Maine, Montana, Iowa, Idaho, South Dakota, North Dakota, Hawaii\n",
      "\n",
      "Cluster 13: Mean killed = 2.13, Mean injured = 14.35\n",
      "States in cluster 13: District of Columbia, Louisiana, Illinois, California, Texas, Florida, Michigan, Arkansas, Oregon, Kansas, Connecticut, Ohio, Alabama, Kentucky\n",
      "\n",
      "Cluster 14: Mean killed = 2.08, Mean injured = 1.33\n",
      "States in cluster 14: North Carolina, Delaware, Georgia, Mississippi, California, Washington, Tennessee, Illinois, Kentucky, Pennsylvania, Texas, Missouri, Maryland, Minnesota, Florida, New Jersey, Louisiana, Virginia, Michigan, Ohio, Colorado, New York, Iowa, Utah, Indiana, South Carolina, Alaska, New Hampshire, Arkansas, Idaho, Wisconsin, Kansas, Oregon, District of Columbia, Alabama, Nebraska, West Virginia, South Dakota, Arizona, North Dakota, Montana, Massachusetts, New Mexico, Connecticut, Oklahoma, Nevada, Wyoming, Maine\n",
      "\n"
     ]
    }
   ],
   "source": [
    "import pandas as pd\n",
    "from sklearn.cluster import KMeans\n",
    "\n",
    "data = pd.read_csv('stage3.csv')\n",
    "\n",
    "df = data[['n_killed', 'n_injured']].values\n",
    "\n",
    "df = (df - df.mean(axis=0)) / df.std(axis=0)\n",
    "\n",
    "n_clusters = 15\n",
    "\n",
    "kmeans = KMeans(n_clusters=n_clusters, random_state=42)\n",
    "kmeans.fit(df)\n",
    "\n",
    "data['cluster'] = kmeans.labels_\n",
    "\n",
    "#gets the average mean\n",
    "cluster_stats = data.groupby('cluster')[['n_killed', 'n_injured']].mean()\n",
    "\n",
    "#goes through all the clusters and prints them out with the mean injured/mean killed\n",
    "for cluster_id in range(n_clusters):\n",
    "    cluster_states = data[data['cluster'] == cluster_id]['state'].unique()\n",
    "    cluster_mean_killed = cluster_stats.loc[cluster_id, 'n_killed']\n",
    "    cluster_mean_injured = cluster_stats.loc[cluster_id, 'n_injured']\n",
    "    print(f\"Cluster {cluster_id}: Mean killed = {cluster_mean_killed:.2f}, Mean injured = {cluster_mean_injured:.2f}\")\n",
    "    print(f\"States in cluster {cluster_id}: {', '.join(cluster_states)}\")\n",
    "    print()\n"
   ]
  },
  {
   "cell_type": "code",
   "execution_count": null,
   "id": "12ac9df6",
   "metadata": {},
   "outputs": [],
   "source": []
  }
 ],
 "metadata": {
  "kernelspec": {
   "display_name": "Python 3 (ipykernel)",
   "language": "python",
   "name": "python3"
  },
  "language_info": {
   "codemirror_mode": {
    "name": "ipython",
    "version": 3
   },
   "file_extension": ".py",
   "mimetype": "text/x-python",
   "name": "python",
   "nbconvert_exporter": "python",
   "pygments_lexer": "ipython3",
   "version": "3.9.13"
  }
 },
 "nbformat": 4,
 "nbformat_minor": 5
}
